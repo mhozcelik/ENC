{
 "cells": [
  {
   "cell_type": "code",
   "execution_count": 1,
   "id": "d03ab5df",
   "metadata": {},
   "outputs": [],
   "source": [
    "import numpy as np\n",
    "import pandas as pd\n",
    "from sklearn.datasets import make_classification\n",
    "from sklearn.model_selection import train_test_split\n",
    "from sklearn.metrics import confusion_matrix, roc_curve, auc\n",
    "from lightgbm import LGBMClassifier\n",
    "import ENCClassifier as ENC"
   ]
  },
  {
   "cell_type": "code",
   "execution_count": 2,
   "id": "94ea591d",
   "metadata": {
    "scrolled": false
   },
   "outputs": [],
   "source": [
    "# Toy Data Preparation\n",
    "X, y = make_classification(n_samples=5000,n_features=20,n_informative=10,random_state=42)\n",
    "df = pd.merge(pd.DataFrame(X),pd.DataFrame(y),left_index=True, right_index=True)\n",
    "X_train, X_test, y_train, y_test = train_test_split(X,y,test_size=0.25,random_state=42,stratify=y)"
   ]
  },
  {
   "cell_type": "code",
   "execution_count": 3,
   "id": "2db0822b",
   "metadata": {},
   "outputs": [
    {
     "name": "stdout",
     "output_type": "stream",
     "text": [
      "accuracy: 0.8216 AUC: 0.9051568772016055 GINI: 0.8103137544032111\n"
     ]
    }
   ],
   "source": [
    "# Training\n",
    "My_model = ENC.ENCClassifier()\n",
    "My_model.fit(X_train,y_train)\n",
    "\n",
    "# Scoring on test dataset\n",
    "My_scores = My_model.predict_proba(X_test)\n",
    "My_predictions = My_model.predict(X_test)\n",
    "\n",
    "# Performance calculations\n",
    "TN, FP, FN, TP = confusion_matrix(y_test, My_predictions, labels=[0, 1]).ravel()\n",
    "accuracy    = (TP+TN)/(TP+TN+FP+FN)\n",
    "sensitivity = TP / (TP+FN)\n",
    "specifity   = TN / (TN+FP)\n",
    "fpr, tpr, thresholds = roc_curve(y_test, My_scores)\n",
    "AUC = auc(fpr, tpr)\n",
    "GINI = 2 * AUC - 1\n",
    "print('accuracy:',accuracy, 'AUC:',AUC, 'GINI:', GINI)"
   ]
  }
 ],
 "metadata": {
  "kernelspec": {
   "display_name": "Python 3 (ipykernel)",
   "language": "python",
   "name": "python3"
  },
  "language_info": {
   "codemirror_mode": {
    "name": "ipython",
    "version": 3
   },
   "file_extension": ".py",
   "mimetype": "text/x-python",
   "name": "python",
   "nbconvert_exporter": "python",
   "pygments_lexer": "ipython3",
   "version": "3.9.13"
  }
 },
 "nbformat": 4,
 "nbformat_minor": 5
}
