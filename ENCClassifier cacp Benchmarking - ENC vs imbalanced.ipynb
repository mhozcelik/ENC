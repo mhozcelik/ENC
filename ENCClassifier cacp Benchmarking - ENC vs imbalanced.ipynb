{
 "cells": [
  {
   "cell_type": "code",
   "execution_count": 1,
   "id": "2ea9f26d",
   "metadata": {},
   "outputs": [],
   "source": [
    "import warnings\n",
    "warnings.filterwarnings('ignore')"
   ]
  },
  {
   "cell_type": "code",
   "execution_count": 2,
   "id": "3dac5d05",
   "metadata": {},
   "outputs": [],
   "source": [
    "from sklearn.ensemble import RandomForestClassifier, AdaBoostClassifier, GradientBoostingClassifier\n",
    "from sklearn.naive_bayes import GaussianNB\n",
    "from sklearn.neighbors import NearestCentroid, KNeighborsClassifier\n",
    "from sklearn.neural_network import MLPClassifier\n",
    "from sklearn.svm import SVC\n",
    "from sklearn.tree import DecisionTreeClassifier\n",
    "from sklearn.linear_model import LogisticRegression\n",
    "from sklearn.discriminant_analysis import LinearDiscriminantAnalysis, QuadraticDiscriminantAnalysis\n",
    "from xgboost_wrapped import XGBoost\n",
    "from lightgbm import LGBMClassifier\n",
    "\n",
    "from cacp import all_datasets, run_experiment, ClassificationDataset\n",
    "from ENCClassifier import ENCClassifier"
   ]
  },
  {
   "cell_type": "code",
   "execution_count": 3,
   "id": "1ef07fb6",
   "metadata": {},
   "outputs": [],
   "source": [
    "imbalanced_datasets = [\n",
    "    ClassificationDataset('appendicitis'),\n",
    "    ClassificationDataset('breast'),\n",
    "    ClassificationDataset('german'),\n",
    "    ClassificationDataset('haberman'),\n",
    "    ClassificationDataset('hepatitis'),\n",
    "    ClassificationDataset('phoneme'),\n",
    "    ClassificationDataset('spectfheart'),\n",
    "    ClassificationDataset('titanic'),\n",
    "]"
   ]
  },
  {
   "cell_type": "code",
   "execution_count": 4,
   "id": "69b945c9",
   "metadata": {},
   "outputs": [
    {
     "name": "stderr",
     "output_type": "stream",
     "text": [
      "Processing comparison: 100%|███████████████████████████████████████████| 80/80 [01:04<00:00,  1.24fold/s]\n"
     ]
    }
   ],
   "source": [
    "experimental_classifiers = [\n",
    "    ('ENC', lambda n_inputs, n_classes: ENCClassifier()),\n",
    "    ('LGBM', lambda n_inputs, n_classes: LGBMClassifier(random_state=42)),\n",
    "    ('XGB', lambda n_inputs, n_classes: XGBoost(seed=42)),\n",
    "    ('SVC', lambda n_inputs, n_classes: SVC(random_state=42)),\n",
    "    ('DT', lambda n_inputs, n_classes: DecisionTreeClassifier(random_state=42)),\n",
    "    ('RF', lambda n_inputs, n_classes: RandomForestClassifier(random_state=42)),\n",
    "    ('GB', lambda n_inputs, n_classes: GradientBoostingClassifier(random_state=42)),\n",
    "    ('NC', lambda n_inputs, n_classes: NearestCentroid()),\n",
    "    ('KNN', lambda n_inputs, n_classes: KNeighborsClassifier()),\n",
    "    ('MLP', lambda n_inputs, n_classes: MLPClassifier(random_state=42)),\n",
    "    ('AB', lambda n_inputs, n_classes: AdaBoostClassifier(random_state=42)),\n",
    "    ('GNB', lambda n_inputs, n_classes: GaussianNB()),\n",
    "    ('LR', lambda n_inputs, n_classes: LogisticRegression(random_state=42)),\n",
    "    ('LDA', lambda n_inputs, n_classes: LinearDiscriminantAnalysis()),\n",
    "    ('QDA', lambda n_inputs, n_classes: QuadraticDiscriminantAnalysis())\n",
    "]\n",
    "run_experiment(\n",
    "    imbalanced_datasets,\n",
    "    experimental_classifiers,\n",
    "    seed=42,\n",
    "    n_folds=10,\n",
    "    results_directory=r'cacp_results\\ENC_vs_imbalanced'\n",
    ")"
   ]
  },
  {
   "cell_type": "code",
   "execution_count": null,
   "id": "bb6560ff",
   "metadata": {},
   "outputs": [],
   "source": []
  }
 ],
 "metadata": {
  "kernelspec": {
   "display_name": "Python 3 (ipykernel)",
   "language": "python",
   "name": "python3"
  },
  "language_info": {
   "codemirror_mode": {
    "name": "ipython",
    "version": 3
   },
   "file_extension": ".py",
   "mimetype": "text/x-python",
   "name": "python",
   "nbconvert_exporter": "python",
   "pygments_lexer": "ipython3",
   "version": "3.9.13"
  }
 },
 "nbformat": 4,
 "nbformat_minor": 5
}
